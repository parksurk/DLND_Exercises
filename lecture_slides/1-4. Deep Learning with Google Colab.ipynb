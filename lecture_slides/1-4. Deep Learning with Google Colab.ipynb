{
 "cells": [
  {
   "cell_type": "code",
   "execution_count": 2,
   "metadata": {
    "slideshow": {
     "slide_type": "skip"
    }
   },
   "outputs": [],
   "source": [
    "import warnings; warnings.simplefilter('ignore')"
   ]
  },
  {
   "cell_type": "code",
   "execution_count": 8,
   "metadata": {
    "slideshow": {
     "slide_type": "slide"
    }
   },
   "outputs": [
    {
     "data": {
      "text/html": [
       "<iframe width=\"800\" height=\"500\" src=\"https://www.youtube.com/embed/inN8seMm7UI\" frameborder=\"0\" allow=\"accelerometer; autoplay; encrypted-media; gyroscope; picture-in-picture\" allowfullscreen></iframe>"
      ],
      "text/plain": [
       "<IPython.core.display.HTML object>"
      ]
     },
     "execution_count": 8,
     "metadata": {},
     "output_type": "execute_result"
    }
   ],
   "source": [
    "\n",
    "from IPython.display import HTML\n",
    "HTML('<iframe width=\"800\" height=\"500\" src=\"https://www.youtube.com/embed/inN8seMm7UI\" frameborder=\"0\" allow=\"accelerometer; autoplay; encrypted-media; gyroscope; picture-in-picture\" allowfullscreen></iframe>')"
   ]
  },
  {
   "cell_type": "markdown",
   "metadata": {
    "slideshow": {
     "slide_type": "subslide"
    }
   },
   "source": [
    "# Reference\n",
    "\n",
    "- https://colab.research.google.com/notebooks/intro.ipynb\n",
    "- https://heartbeat.fritz.ai/getting-started-with-google-colab-notebooks-117e2bb0c220\n",
    "- https://jisoo-coding.tistory.com/2\n",
    "- https://datascienceschool.net/view-notebook/f9d9fddb7cc7494a9e4be99f0e137be0/"
   ]
  },
  {
   "cell_type": "markdown",
   "metadata": {
    "colab_type": "text",
    "id": "x4S6z_kdISLZ",
    "school_cell_uuid": "d24c9f446446471aa8c881b8f7bb84c5",
    "slideshow": {
     "slide_type": "slide"
    }
   },
   "source": [
    "# Lesson 1-4: Google Colab 사용법\n",
    "\n",
    "구글 colaboratory 서비스, 줄여서 코랩(colab)이라고 부르는 웹 서비스는 주피터 노트북을 구글 서버에서 가동시키고 사용자가 마음대로 사용할 수 있도록 무료로 제공한다. 이 서비스를 이용하려면 구글 지메일(gmail) 계정을 가지고 있어야 한다. 지메일 계정이 있다면 다음과 같이 코랩을 사용할 수 있다.\n"
   ]
  },
  {
   "cell_type": "markdown",
   "metadata": {
    "slideshow": {
     "slide_type": "slide"
    }
   },
   "source": [
    "## 1-4-1 : Google Colab 장점\n",
    "\n",
    "코랩 노트북은 다음과 같은 장점이 있다.\n",
    "\n",
    "1. 별도의 파이썬 설치 없이 웹 브라우저 만을 이용해 주피터 노트북과 같은 작업을 할 수 있다.\n",
    "2. 다른 사용자들과 공유가 쉬워 연구 및 교육용으로 많이 사용된다.\n",
    "3. Tensorflow, keras, matplotlib, scikit-learn, pandas 등 데이터 분석에 많이 사용되는 패키지들이 미리 설치되어 있다.\n",
    "4. 무료로 GPU를 사용할 수 있다.\n",
    "5. 구글 독스나 구글 스프레드시트 등과 같은 식으로 공유와 편집이 가능하다. 만약 두 명 이상의 사람이 동시에 같은 파일을 수정 하더라도 변경사항이 모든 사람에게 즉시 표시된다."
   ]
  },
  {
   "cell_type": "markdown",
   "metadata": {
    "colab_type": "text",
    "id": "X-8cQbGgISLb",
    "school_cell_uuid": "1d6806e4cf5d4ba4b0ff8a6414e43aae",
    "slideshow": {
     "slide_type": "slide"
    }
   },
   "source": [
    "## 1-4-2 : Google Colab 시작하기"
   ]
  },
  {
   "cell_type": "markdown",
   "metadata": {
    "colab_type": "text",
    "id": "VHKpvOmfISLc",
    "school_cell_uuid": "d688a16f1b68428e829494f0d6610dd2",
    "slideshow": {
     "slide_type": "subslide"
    }
   },
   "source": [
    "구글 코랩을 사용하려면 지메일 계정이 필요하다. 지메일 계정이 있으면 로그인을 하고 지메일 계정이 없다면 다음 웹사이트에서 지메일을 만든 다음에 로그인한다.\n",
    "\n",
    "* https://www.google.com/gmail/\n",
    "\n",
    "로그인을 한 후에는 웹 브라우저를 열고 다음 웹 페이지 주소로 접속한다. \n",
    "\n",
    "* http://colab.research.google.com\n",
    "\n",
    "그러면 다음 그림과 같은 시작 페이지가 나온다."
   ]
  },
  {
   "cell_type": "markdown",
   "metadata": {
    "colab_type": "text",
    "id": "KzNOICPoISLc",
    "school_cell_uuid": "10d02d2d02644c048c0f970e007288a0",
    "slideshow": {
     "slide_type": "subslide"
    }
   },
   "source": [
    "<img src=\"https://datascienceschool.net/upfiles/b78bdafbaca24f1bb83a96b8a60a5b8c.png\" width=\"100%\">\n",
    "그림 : 코랩 환영 페이지"
   ]
  },
  {
   "cell_type": "markdown",
   "metadata": {
    "colab_type": "text",
    "id": "IdCkogtbISLd",
    "school_cell_uuid": "aff363eb8473467fb5fe0fd7c49d7fd7",
    "slideshow": {
     "slide_type": "subslide"
    }
   },
   "source": [
    "메뉴에서 ‘파일’ > ‘새 Python 3 노트’ 명령을 선택하거나 다이얼로그 아래의 \"새 PYTHON 3 노트\" 버튼을 누르면 다음 그림처럼 새 노트북을 사용할 수 있다. 사용법은 주피터 노트북과 같다."
   ]
  },
  {
   "cell_type": "markdown",
   "metadata": {
    "colab_type": "text",
    "id": "vK0as0A7ISLd",
    "school_cell_uuid": "10d02d2d02644c048c0f970e007288a0",
    "slideshow": {
     "slide_type": "subslide"
    }
   },
   "source": [
    "<img src=\"https://datascienceschool.net/upfiles/9977a6f92649434c83441ea2d9d77c6b.png\" width=\"100%\">\n",
    "그림 : 새 코랩 노트북"
   ]
  },
  {
   "cell_type": "markdown",
   "metadata": {
    "colab_type": "text",
    "id": "bnPoT6hDISLf",
    "school_cell_uuid": "f5ac9fb0aaab4dcaa1fd7a58b4849f02",
    "slideshow": {
     "slide_type": "slide"
    }
   },
   "source": [
    "## 1-4-3 : 환경 살펴보기"
   ]
  },
  {
   "cell_type": "markdown",
   "metadata": {
    "colab_type": "text",
    "id": "gskFpLd6ccgb",
    "school_cell_uuid": "9a8fad8d00624ae193483a637d46030c",
    "slideshow": {
     "slide_type": "subslide"
    }
   },
   "source": [
    "운영체제나 하드웨어 그리고 설치된 파이썬 사양은 다음처럼 확인할 수 있다. "
   ]
  },
  {
   "cell_type": "code",
   "execution_count": 1,
   "metadata": {
    "colab": {
     "base_uri": "https://localhost:8080/",
     "height": 34
    },
    "colab_type": "code",
    "executionInfo": {
     "elapsed": 2764,
     "status": "ok",
     "timestamp": 1561796952789,
     "user": {
      "displayName": "Joel Kim",
      "photoUrl": "https://lh5.googleusercontent.com/-7bIytqeB5gw/AAAAAAAAAAI/AAAAAAAA60U/moNp61uz6gY/s64/photo.jpg",
      "userId": "03446664688650714943"
     },
     "user_tz": -540
    },
    "id": "kxHO4kDvbfgx",
    "outputId": "a2f4c842-c3e2-4916-cdde-7a36e2473750",
    "school_cell_uuid": "c8c45de828eb4a42b25bf31b2f2dfa09",
    "slideshow": {
     "slide_type": "subslide"
    }
   },
   "outputs": [
    {
     "name": "stdout",
     "output_type": "stream",
     "text": [
      "Ubuntu 18.04.2 LTS\n"
     ]
    }
   ],
   "source": [
    "# OS\n",
    "!cat /etc/issue.net"
   ]
  },
  {
   "cell_type": "code",
   "execution_count": 2,
   "metadata": {
    "colab": {
     "base_uri": "https://localhost:8080/",
     "height": 187
    },
    "colab_type": "code",
    "executionInfo": {
     "elapsed": 4658,
     "status": "ok",
     "timestamp": 1561796954691,
     "user": {
      "displayName": "Joel Kim",
      "photoUrl": "https://lh5.googleusercontent.com/-7bIytqeB5gw/AAAAAAAAAAI/AAAAAAAA60U/moNp61uz6gY/s64/photo.jpg",
      "userId": "03446664688650714943"
     },
     "user_tz": -540
    },
    "id": "t8aaBnxDbhLg",
    "outputId": "084198d4-d085-4435-9e99-70ef13ba9c03",
    "school_cell_uuid": "87ffe01fa231435f8c00470a82d85b86",
    "slideshow": {
     "slide_type": "subslide"
    }
   },
   "outputs": [
    {
     "name": "stdout",
     "output_type": "stream",
     "text": [
      "processor\t: 0\n",
      "vendor_id\t: GenuineIntel\n",
      "cpu family\t: 6\n",
      "model\t\t: 79\n",
      "model name\t: Intel(R) Xeon(R) CPU @ 2.20GHz\n",
      "stepping\t: 0\n",
      "microcode\t: 0x1\n",
      "cpu MHz\t\t: 2200.000\n",
      "cache size\t: 56320 KB\n",
      "physical id\t: 0\n"
     ]
    }
   ],
   "source": [
    "# CPU 사양\n",
    "!head /proc/cpuinfo"
   ]
  },
  {
   "cell_type": "code",
   "execution_count": 3,
   "metadata": {
    "colab": {
     "base_uri": "https://localhost:8080/",
     "height": 68
    },
    "colab_type": "code",
    "executionInfo": {
     "elapsed": 6537,
     "status": "ok",
     "timestamp": 1561796956582,
     "user": {
      "displayName": "Joel Kim",
      "photoUrl": "https://lh5.googleusercontent.com/-7bIytqeB5gw/AAAAAAAAAAI/AAAAAAAA60U/moNp61uz6gY/s64/photo.jpg",
      "userId": "03446664688650714943"
     },
     "user_tz": -540
    },
    "id": "pf2IWGAycAm2",
    "outputId": "28d9de03-be4b-4470-f3bb-a35d0edf0c14",
    "school_cell_uuid": "27df5b3978c24dffa3e615c3bcc09286",
    "slideshow": {
     "slide_type": "subslide"
    }
   },
   "outputs": [
    {
     "name": "stdout",
     "output_type": "stream",
     "text": [
      "MemTotal:       13335268 kB\n",
      "MemFree:         5890096 kB\n",
      "MemAvailable:   12495328 kB\n"
     ]
    }
   ],
   "source": [
    "# 메모리 사양\n",
    "!head -n 3 /proc/meminfo"
   ]
  },
  {
   "cell_type": "code",
   "execution_count": 4,
   "metadata": {
    "colab": {
     "base_uri": "https://localhost:8080/",
     "height": 170
    },
    "colab_type": "code",
    "executionInfo": {
     "elapsed": 8435,
     "status": "ok",
     "timestamp": 1561796958487,
     "user": {
      "displayName": "Joel Kim",
      "photoUrl": "https://lh5.googleusercontent.com/-7bIytqeB5gw/AAAAAAAAAAI/AAAAAAAA60U/moNp61uz6gY/s64/photo.jpg",
      "userId": "03446664688650714943"
     },
     "user_tz": -540
    },
    "id": "ixfZEcu3cIFc",
    "outputId": "3edb4407-5c7d-4fc4-ce15-0710e9ddf972",
    "school_cell_uuid": "2b746b856e03446fb44356a475fecfea",
    "slideshow": {
     "slide_type": "subslide"
    }
   },
   "outputs": [
    {
     "name": "stdout",
     "output_type": "stream",
     "text": [
      "Filesystem      Size  Used Avail Use% Mounted on\n",
      "overlay         359G   32G  309G  10% /\n",
      "tmpfs           6.4G     0  6.4G   0% /dev\n",
      "tmpfs           6.4G     0  6.4G   0% /sys/fs/cgroup\n",
      "/dev/sda1       365G   39G  327G  11% /opt/bin\n",
      "tmpfs           6.4G   12K  6.4G   1% /var/colab\n",
      "shm             6.0G  8.0K  6.0G   1% /dev/shm\n",
      "tmpfs           6.4G     0  6.4G   0% /sys/firmware\n",
      "drive           202G  107G   96G  53% /content/drive\n"
     ]
    }
   ],
   "source": [
    "# 디스크 사양\n",
    "!df -h"
   ]
  },
  {
   "cell_type": "code",
   "execution_count": 5,
   "metadata": {
    "colab": {
     "base_uri": "https://localhost:8080/",
     "height": 34
    },
    "colab_type": "code",
    "executionInfo": {
     "elapsed": 10467,
     "status": "ok",
     "timestamp": 1561796960531,
     "user": {
      "displayName": "Joel Kim",
      "photoUrl": "https://lh5.googleusercontent.com/-7bIytqeB5gw/AAAAAAAAAAI/AAAAAAAA60U/moNp61uz6gY/s64/photo.jpg",
      "userId": "03446664688650714943"
     },
     "user_tz": -540
    },
    "id": "zxO4LVsMZc6V",
    "outputId": "8a94cbe4-356a-4107-f0ce-4801dea545e7",
    "school_cell_uuid": "ade71261cbd5414f8d3441578cb54a5b",
    "slideshow": {
     "slide_type": "subslide"
    }
   },
   "outputs": [
    {
     "name": "stdout",
     "output_type": "stream",
     "text": [
      "Python 3.6.8\n"
     ]
    }
   ],
   "source": [
    "!python --version"
   ]
  },
  {
   "cell_type": "markdown",
   "metadata": {
    "colab_type": "text",
    "id": "4txc0p7fVsj0",
    "school_cell_uuid": "b3d0c8f7dd70435bad71f700241f8947",
    "slideshow": {
     "slide_type": "slide"
    }
   },
   "source": [
    "## 1-4-4 : GPU 사용하기"
   ]
  },
  {
   "cell_type": "markdown",
   "metadata": {
    "colab_type": "text",
    "id": "HpukQL3SV0mz",
    "school_cell_uuid": "940bbcf53c164b098c599683e2d8ce05",
    "slideshow": {
     "slide_type": "subslide"
    }
   },
   "source": [
    "Colab에서 GPU를 사용하기 위해서는 런타임 유형을 변경해야 한다. Colab 화면 상단의 툴바에서 \"런타임\" > \"런타임 유형 변경\" > \"하드웨어 가속기\" 설정을  None 에서 GPU로 변경한다. (TPU로도 변경이 가능하다.)"
   ]
  },
  {
   "cell_type": "markdown",
   "metadata": {
    "colab_type": "text",
    "id": "P9c7yQbZibnr",
    "school_cell_uuid": "4849e39fe9b345fe8cd195c5be8f094f",
    "slideshow": {
     "slide_type": "subslide"
    }
   },
   "source": [
    "<img src=\"https://datascienceschool.net/upfiles/82c048bc2ac243268b0000d4dc276587.png\" style=\"width: 100%;\">\n",
    "그림 : 코랩 런타임 유형 설정"
   ]
  },
  {
   "cell_type": "markdown",
   "metadata": {
    "colab_type": "text",
    "id": "pV4UhG_IISLw",
    "school_cell_uuid": "9dcd54a0751449f4bc0cc4e9deac7142",
    "slideshow": {
     "slide_type": "subslide"
    }
   },
   "source": [
    "런타임 유형을 GPU로 변경한 이후에는 `!nvidia-smi` 명령어로 GPU 사양을 확인 할 수 있다. "
   ]
  },
  {
   "cell_type": "code",
   "execution_count": 6,
   "metadata": {
    "colab": {
     "base_uri": "https://localhost:8080/",
     "height": 306
    },
    "colab_type": "code",
    "executionInfo": {
     "elapsed": 12541,
     "status": "ok",
     "timestamp": 1561796962611,
     "user": {
      "displayName": "Joel Kim",
      "photoUrl": "https://lh5.googleusercontent.com/-7bIytqeB5gw/AAAAAAAAAAI/AAAAAAAA60U/moNp61uz6gY/s64/photo.jpg",
      "userId": "03446664688650714943"
     },
     "user_tz": -540
    },
    "id": "jlgxD9z9fJHi",
    "outputId": "744f1e3b-ea53-4506-a835-57e9b61bdd07",
    "school_cell_uuid": "c46920809620426abb914ac4ef2fbe84",
    "slideshow": {
     "slide_type": "subslide"
    }
   },
   "outputs": [
    {
     "name": "stdout",
     "output_type": "stream",
     "text": [
      "Sat Jun 29 08:29:21 2019       \n",
      "+-----------------------------------------------------------------------------+\n",
      "| NVIDIA-SMI 418.67       Driver Version: 410.79       CUDA Version: 10.0     |\n",
      "|-------------------------------+----------------------+----------------------+\n",
      "| GPU  Name        Persistence-M| Bus-Id        Disp.A | Volatile Uncorr. ECC |\n",
      "| Fan  Temp  Perf  Pwr:Usage/Cap|         Memory-Usage | GPU-Util  Compute M. |\n",
      "|===============================+======================+======================|\n",
      "|   0  Tesla T4            Off  | 00000000:00:04.0 Off |                    0 |\n",
      "| N/A   35C    P8    15W /  70W |      0MiB / 15079MiB |      0%      Default |\n",
      "+-------------------------------+----------------------+----------------------+\n",
      "                                                                               \n",
      "+-----------------------------------------------------------------------------+\n",
      "| Processes:                                                       GPU Memory |\n",
      "|  GPU       PID   Type   Process name                             Usage      |\n",
      "|=============================================================================|\n",
      "|  No running processes found                                                 |\n",
      "+-----------------------------------------------------------------------------+\n"
     ]
    }
   ],
   "source": [
    "!nvidia-smi"
   ]
  },
  {
   "cell_type": "markdown",
   "metadata": {
    "colab_type": "text",
    "id": "VrD4d0niK9W2",
    "school_cell_uuid": "dd533cb8890c40d2b48bfa0c77ecb59a",
    "slideshow": {
     "slide_type": "slide"
    }
   },
   "source": [
    "## 1-4-5 : 구글 드라이브 연동"
   ]
  },
  {
   "cell_type": "markdown",
   "metadata": {
    "colab_type": "text",
    "id": "zbA3_akkK9W2",
    "school_cell_uuid": "dd533cb8890c40d2b48bfa0c77ecb59a",
    "slideshow": {
     "slide_type": "subslide"
    }
   },
   "source": [
    "콜랩에 구글드라이브를 연결하면 구글 드라이브에서 데이터 파일을 열거나 저장할 수도 있다. 코랩을 실행 중인 상태에서 다음 코드를 실행하면 구글 드라이브를 `/content/drive/`라는 이름으로 드라이브로 코랩에 마운트(mount)시킨다."
   ]
  },
  {
   "cell_type": "code",
   "execution_count": 7,
   "metadata": {
    "colab": {
     "base_uri": "https://localhost:8080/",
     "height": 34
    },
    "colab_type": "code",
    "executionInfo": {
     "elapsed": 12537,
     "status": "ok",
     "timestamp": 1561796962614,
     "user": {
      "displayName": "Joel Kim",
      "photoUrl": "https://lh5.googleusercontent.com/-7bIytqeB5gw/AAAAAAAAAAI/AAAAAAAA60U/moNp61uz6gY/s64/photo.jpg",
      "userId": "03446664688650714943"
     },
     "user_tz": -540
    },
    "id": "Wl4AjXGNK_Dc",
    "outputId": "343afa78-22a0-44ca-9f12-ce10a73b75ff",
    "school_cell_uuid": "d24b0be8739241dfab561d365e9a1ed0",
    "slideshow": {
     "slide_type": "subslide"
    }
   },
   "outputs": [
    {
     "name": "stdout",
     "output_type": "stream",
     "text": [
      "Drive already mounted at /content/drive; to attempt to forcibly remount, call drive.mount(\"/content/drive\", force_remount=True).\n"
     ]
    }
   ],
   "source": [
    "from google.colab import drive\n",
    "drive.mount('/content/drive')"
   ]
  },
  {
   "cell_type": "markdown",
   "metadata": {
    "colab_type": "text",
    "id": "0sTNwtEvSjIm",
    "school_cell_uuid": "2ea90fa8dc9e4d31b31748b4401357bd",
    "slideshow": {
     "slide_type": "subslide"
    }
   },
   "source": [
    "이미 연결된 상태이면 위와 같은 결과가 나오지만 만약 처음 연결하는 경우라면 다음 그림과 같이 구글 드라이브의 권한을 요청한다. "
   ]
  },
  {
   "cell_type": "markdown",
   "metadata": {
    "colab_type": "text",
    "id": "Nee2SenEWWQf",
    "school_cell_uuid": "bbb185b080f543458dc9a80337300fba",
    "slideshow": {
     "slide_type": "subslide"
    }
   },
   "source": [
    "<img src=\"https://datascienceschool.net/upfiles/4562a9928437428f96ba19f3a4d595a0.png\" style=\"width: 100%;\">\n",
    "그림 : 구글 드라이브 연결"
   ]
  },
  {
   "cell_type": "markdown",
   "metadata": {
    "colab_type": "text",
    "id": "a-yEXdAIWWQf",
    "school_cell_uuid": "007e273ec604461eb7db6487a050166a",
    "slideshow": {
     "slide_type": "subslide"
    }
   },
   "source": [
    "알려주는 URL 링크를 클릭하여 구글에 로그인하면 비밀키 문자열을 알려준다. "
   ]
  },
  {
   "cell_type": "markdown",
   "metadata": {
    "colab_type": "text",
    "id": "t41jV6fqWWQg",
    "school_cell_uuid": "c131475af2554724a05aa5c0fbaab80d",
    "slideshow": {
     "slide_type": "subslide"
    }
   },
   "source": [
    "<img src=\"https://datascienceschool.net/upfiles/1de6dda03bbc45a7bef24ce0d0561f0f.png\" style=\"width: 100%;\">\n",
    "그림 : 구글 드라이브 연결"
   ]
  },
  {
   "cell_type": "markdown",
   "metadata": {
    "colab_type": "text",
    "id": "yvUCEsDXWWQg",
    "school_cell_uuid": "5c1d5fb2921f4dedac1b9682b1c8f94a",
    "slideshow": {
     "slide_type": "subslide"
    }
   },
   "source": [
    "<img src=\"https://datascienceschool.net/upfiles/def9dd3ab6694965953205762f14f5b6.png\" style=\"width: 100%;\">\n",
    "그림 : 구글 드라이브 연결"
   ]
  },
  {
   "cell_type": "markdown",
   "metadata": {
    "colab_type": "text",
    "id": "JTiL_TwmWWQi",
    "school_cell_uuid": "edb42e6e795b445ca568706a1da37966",
    "slideshow": {
     "slide_type": "subslide"
    }
   },
   "source": [
    "이 비밀키 문자열을 복사하여 코랩에 있는 네모 입력칸에 붙여넣으면 구들 드라이브와 연결된다.\n",
    "\n",
    "연결되면 다음과 같이 배시 셸 명령어로 폴더를 확인할 수 있다.  "
   ]
  },
  {
   "cell_type": "code",
   "execution_count": 8,
   "metadata": {
    "colab": {
     "base_uri": "https://localhost:8080/",
     "height": 34
    },
    "colab_type": "code",
    "executionInfo": {
     "elapsed": 14465,
     "status": "ok",
     "timestamp": 1561796964550,
     "user": {
      "displayName": "Joel Kim",
      "photoUrl": "https://lh5.googleusercontent.com/-7bIytqeB5gw/AAAAAAAAAAI/AAAAAAAA60U/moNp61uz6gY/s64/photo.jpg",
      "userId": "03446664688650714943"
     },
     "user_tz": -540
    },
    "id": "KEetyotAK9W3",
    "outputId": "477952de-2413-46c1-e9c8-36705e31ef8b",
    "school_cell_uuid": "c18efa9ada5448c78255740490b17b9d",
    "slideshow": {
     "slide_type": "subslide"
    }
   },
   "outputs": [
    {
     "name": "stdout",
     "output_type": "stream",
     "text": [
      "'My Drive'\n"
     ]
    }
   ],
   "source": [
    "!ls '/content/drive/'"
   ]
  },
  {
   "cell_type": "markdown",
   "metadata": {
    "colab_type": "text",
    "id": "vjcef2UOTkNa",
    "school_cell_uuid": "2e5f951a2fee4a70ae2a35c8db36c8ed",
    "slideshow": {
     "slide_type": "subslide"
    }
   },
   "source": [
    "이 드라이브에는 구글 드라이브가 `My Drive`라는 이름의 폴더로 마운트되어 있다. 시험삼아 이 폴더 아래에  `test_colab`이라는 폴더를 만들자."
   ]
  },
  {
   "cell_type": "code",
   "execution_count": 9,
   "metadata": {
    "colab": {
     "base_uri": "https://localhost:8080/",
     "height": 34
    },
    "colab_type": "code",
    "executionInfo": {
     "elapsed": 17760,
     "status": "ok",
     "timestamp": 1561796967851,
     "user": {
      "displayName": "Joel Kim",
      "photoUrl": "https://lh5.googleusercontent.com/-7bIytqeB5gw/AAAAAAAAAAI/AAAAAAAA60U/moNp61uz6gY/s64/photo.jpg",
      "userId": "03446664688650714943"
     },
     "user_tz": -540
    },
    "id": "P2xX1BrrPwMg",
    "outputId": "c0d7c3ac-016e-40da-b3f8-47ef16aae039",
    "school_cell_uuid": "812aa3636b3c41c491aa588edffc2da2",
    "slideshow": {
     "slide_type": "subslide"
    }
   },
   "outputs": [
    {
     "name": "stdout",
     "output_type": "stream",
     "text": [
      "total 0\n"
     ]
    }
   ],
   "source": [
    "!mkdir -p '/content/drive/My Drive/test_colab'\n",
    "!ls -Fcal '/content/drive/My Drive/test_colab'"
   ]
  },
  {
   "cell_type": "markdown",
   "metadata": {
    "colab_type": "text",
    "id": "0ntjKQiXTWjF",
    "school_cell_uuid": "6b113d64ddfa4e1f9a9f80f215a15df2",
    "slideshow": {
     "slide_type": "subslide"
    }
   },
   "source": [
    "폴더가 만들어졌으면 다음 코드로 이 테스트 폴더 안에 df.csv 라는 이름의 데이터 파일을 만들어 보자"
   ]
  },
  {
   "cell_type": "code",
   "execution_count": 0,
   "metadata": {
    "colab": {},
    "colab_type": "code",
    "id": "4-O3raZFP42F",
    "school_cell_uuid": "1736705b73dd41429e5ba6fe289ab497",
    "slideshow": {
     "slide_type": "subslide"
    }
   },
   "outputs": [],
   "source": [
    "import numpy as np\n",
    "import pandas as pd\n",
    "\n",
    "df = pd.DataFrame(np.random.rand(10, 5))\n",
    "df.to_csv(\"/content/drive/My Drive/test_colab/df.csv\")"
   ]
  },
  {
   "cell_type": "markdown",
   "metadata": {
    "colab_type": "text",
    "id": "3-S0W7zvTeYS",
    "school_cell_uuid": "9f6f3237218e4efcbf5051e2da17f5ed",
    "slideshow": {
     "slide_type": "subslide"
    }
   },
   "source": [
    "데이터 파일이 만들어진 것을 확인할 수 있다. 확인이 끝나면 필요없는 데이터 파일은 지운다."
   ]
  },
  {
   "cell_type": "code",
   "execution_count": 11,
   "metadata": {
    "colab": {
     "base_uri": "https://localhost:8080/",
     "height": 51
    },
    "colab_type": "code",
    "executionInfo": {
     "elapsed": 19749,
     "status": "ok",
     "timestamp": 1561796969853,
     "user": {
      "displayName": "Joel Kim",
      "photoUrl": "https://lh5.googleusercontent.com/-7bIytqeB5gw/AAAAAAAAAAI/AAAAAAAA60U/moNp61uz6gY/s64/photo.jpg",
      "userId": "03446664688650714943"
     },
     "user_tz": -540
    },
    "id": "1KSJ4aBJQHud",
    "outputId": "bb766a1f-9980-491d-fc64-1287bec9e82c",
    "school_cell_uuid": "e54465ccfd4a4de5a253a20f3cac6cfb",
    "slideshow": {
     "slide_type": "subslide"
    }
   },
   "outputs": [
    {
     "name": "stdout",
     "output_type": "stream",
     "text": [
      "total 1\n",
      "-rw------- 1 root root 992 Jun 29 08:29 df.csv\n"
     ]
    }
   ],
   "source": [
    "!ls -Fcal '/content/drive/My Drive/test_colab'"
   ]
  },
  {
   "cell_type": "code",
   "execution_count": 12,
   "metadata": {
    "colab": {
     "base_uri": "https://localhost:8080/",
     "height": 359
    },
    "colab_type": "code",
    "executionInfo": {
     "elapsed": 19743,
     "status": "ok",
     "timestamp": 1561796969854,
     "user": {
      "displayName": "Joel Kim",
      "photoUrl": "https://lh5.googleusercontent.com/-7bIytqeB5gw/AAAAAAAAAAI/AAAAAAAA60U/moNp61uz6gY/s64/photo.jpg",
      "userId": "03446664688650714943"
     },
     "user_tz": -540
    },
    "id": "_9uc2oB2QNMo",
    "outputId": "fe76eb19-132c-4539-c417-65128bb1024e",
    "school_cell_uuid": "0ec6042ecafd46438f0a0ce536081e76",
    "slideshow": {
     "slide_type": "subslide"
    }
   },
   "outputs": [
    {
     "data": {
      "text/html": [
       "<div>\n",
       "<style scoped>\n",
       "    .dataframe tbody tr th:only-of-type {\n",
       "        vertical-align: middle;\n",
       "    }\n",
       "\n",
       "    .dataframe tbody tr th {\n",
       "        vertical-align: top;\n",
       "    }\n",
       "\n",
       "    .dataframe thead th {\n",
       "        text-align: right;\n",
       "    }\n",
       "</style>\n",
       "<table border=\"1\" class=\"dataframe\">\n",
       "  <thead>\n",
       "    <tr style=\"text-align: right;\">\n",
       "      <th></th>\n",
       "      <th>Unnamed: 0</th>\n",
       "      <th>0</th>\n",
       "      <th>1</th>\n",
       "      <th>2</th>\n",
       "      <th>3</th>\n",
       "      <th>4</th>\n",
       "    </tr>\n",
       "  </thead>\n",
       "  <tbody>\n",
       "    <tr>\n",
       "      <th>0</th>\n",
       "      <td>0</td>\n",
       "      <td>0.322282</td>\n",
       "      <td>0.397431</td>\n",
       "      <td>0.587742</td>\n",
       "      <td>0.970604</td>\n",
       "      <td>0.565236</td>\n",
       "    </tr>\n",
       "    <tr>\n",
       "      <th>1</th>\n",
       "      <td>1</td>\n",
       "      <td>0.577170</td>\n",
       "      <td>0.898776</td>\n",
       "      <td>0.900009</td>\n",
       "      <td>0.253049</td>\n",
       "      <td>0.374370</td>\n",
       "    </tr>\n",
       "    <tr>\n",
       "      <th>2</th>\n",
       "      <td>2</td>\n",
       "      <td>0.349012</td>\n",
       "      <td>0.432628</td>\n",
       "      <td>0.967889</td>\n",
       "      <td>0.057433</td>\n",
       "      <td>0.165137</td>\n",
       "    </tr>\n",
       "    <tr>\n",
       "      <th>3</th>\n",
       "      <td>3</td>\n",
       "      <td>0.145196</td>\n",
       "      <td>0.117466</td>\n",
       "      <td>0.053451</td>\n",
       "      <td>0.459595</td>\n",
       "      <td>0.902918</td>\n",
       "    </tr>\n",
       "    <tr>\n",
       "      <th>4</th>\n",
       "      <td>4</td>\n",
       "      <td>0.335423</td>\n",
       "      <td>0.759604</td>\n",
       "      <td>0.834097</td>\n",
       "      <td>0.802685</td>\n",
       "      <td>0.515207</td>\n",
       "    </tr>\n",
       "    <tr>\n",
       "      <th>5</th>\n",
       "      <td>5</td>\n",
       "      <td>0.592335</td>\n",
       "      <td>0.715615</td>\n",
       "      <td>0.150897</td>\n",
       "      <td>0.399311</td>\n",
       "      <td>0.593562</td>\n",
       "    </tr>\n",
       "    <tr>\n",
       "      <th>6</th>\n",
       "      <td>6</td>\n",
       "      <td>0.487657</td>\n",
       "      <td>0.697127</td>\n",
       "      <td>0.534957</td>\n",
       "      <td>0.421989</td>\n",
       "      <td>0.718519</td>\n",
       "    </tr>\n",
       "    <tr>\n",
       "      <th>7</th>\n",
       "      <td>7</td>\n",
       "      <td>0.820417</td>\n",
       "      <td>0.502805</td>\n",
       "      <td>0.773603</td>\n",
       "      <td>0.783775</td>\n",
       "      <td>0.868326</td>\n",
       "    </tr>\n",
       "    <tr>\n",
       "      <th>8</th>\n",
       "      <td>8</td>\n",
       "      <td>0.954002</td>\n",
       "      <td>0.462217</td>\n",
       "      <td>0.157847</td>\n",
       "      <td>0.763585</td>\n",
       "      <td>0.077337</td>\n",
       "    </tr>\n",
       "    <tr>\n",
       "      <th>9</th>\n",
       "      <td>9</td>\n",
       "      <td>0.561775</td>\n",
       "      <td>0.318566</td>\n",
       "      <td>0.620080</td>\n",
       "      <td>0.752606</td>\n",
       "      <td>0.246272</td>\n",
       "    </tr>\n",
       "  </tbody>\n",
       "</table>\n",
       "</div>"
      ],
      "text/plain": [
       "   Unnamed: 0         0         1         2         3         4\n",
       "0           0  0.322282  0.397431  0.587742  0.970604  0.565236\n",
       "1           1  0.577170  0.898776  0.900009  0.253049  0.374370\n",
       "2           2  0.349012  0.432628  0.967889  0.057433  0.165137\n",
       "3           3  0.145196  0.117466  0.053451  0.459595  0.902918\n",
       "4           4  0.335423  0.759604  0.834097  0.802685  0.515207\n",
       "5           5  0.592335  0.715615  0.150897  0.399311  0.593562\n",
       "6           6  0.487657  0.697127  0.534957  0.421989  0.718519\n",
       "7           7  0.820417  0.502805  0.773603  0.783775  0.868326\n",
       "8           8  0.954002  0.462217  0.157847  0.763585  0.077337\n",
       "9           9  0.561775  0.318566  0.620080  0.752606  0.246272"
      ]
     },
     "execution_count": 12,
     "metadata": {
      "tags": []
     },
     "output_type": "execute_result"
    }
   ],
   "source": [
    "pd.read_csv(\"/content/drive/My Drive/test_colab/df.csv\")"
   ]
  },
  {
   "cell_type": "code",
   "execution_count": 0,
   "metadata": {
    "colab": {},
    "colab_type": "code",
    "id": "MTYqFRdaTNmJ",
    "school_cell_uuid": "4e9adb331e924c839807b5383174cbce",
    "slideshow": {
     "slide_type": "subslide"
    }
   },
   "outputs": [],
   "source": [
    "!rm -rf \"/content/drive/My Drive/test_colab/df.csv\""
   ]
  },
  {
   "cell_type": "markdown",
   "metadata": {
    "colab_type": "text",
    "id": "Fq7gT-koQ7bg",
    "school_cell_uuid": "5cd4cfcfb03a4eb6a97f948f0d158c87",
    "slideshow": {
     "slide_type": "slide"
    }
   },
   "source": [
    "## 1-4-5 : 구글 드라이브에서 주피터 노트북 사용하기"
   ]
  },
  {
   "cell_type": "markdown",
   "metadata": {
    "colab_type": "text",
    "id": "v4kipnnoRHM1",
    "school_cell_uuid": "b1645593beb94228876c472738fda8cc",
    "slideshow": {
     "slide_type": "subslide"
    }
   },
   "source": [
    "주피터 노트북 파일을 구글 드라이브에 업로드 해 놓으면 콜랩에서 연동하여 사용할 수 있다.  구글 드라이브에서 .ipynb 파일을 열때 연결할 앱으로 \"Collaboratory\"를 선택하면 구글 코랩에서 열린다."
   ]
  }
 ],
 "metadata": {
  "accelerator": "GPU",
  "celltoolbar": "Slideshow",
  "colab": {
   "collapsed_sections": [],
   "name": "01.01 구글 코랩 사용법.ipynb",
   "provenance": [],
   "version": "0.3.2"
  },
  "kernelspec": {
   "display_name": "dlnd",
   "language": "python",
   "name": "dlnd"
  },
  "language_info": {
   "codemirror_mode": {
    "name": "ipython",
    "version": 3
   },
   "file_extension": ".py",
   "mimetype": "text/x-python",
   "name": "python",
   "nbconvert_exporter": "python",
   "pygments_lexer": "ipython3",
   "version": "3.6.9"
  }
 },
 "nbformat": 4,
 "nbformat_minor": 1
}
